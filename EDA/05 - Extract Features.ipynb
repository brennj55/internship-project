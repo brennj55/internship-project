{
 "metadata": {
  "name": "",
  "signature": ""
 },
 "nbformat": 3,
 "nbformat_minor": 0,
 "worksheets": [
  {
   "cells": [
    {
     "cell_type": "code",
     "collapsed": false,
     "input": [
      "import pandas as pd\n",
      "from pymongo import MongoClient\n",
      "import os"
     ],
     "language": "python",
     "metadata": {},
     "outputs": [],
     "prompt_number": ""
    },
    {
     "cell_type": "code",
     "collapsed": false,
     "input": [
      "from pandas.tseries.offsets import Week"
     ],
     "language": "python",
     "metadata": {},
     "outputs": [],
     "prompt_number": ""
    },
    {
     "cell_type": "markdown",
     "metadata": {},
     "source": [
      "# Set up Database"
     ]
    },
    {
     "cell_type": "code",
     "collapsed": false,
     "input": [
      "db_user = os.environ['MONGO_USER']\n",
      "db_pwd = os.environ['MONGO_PWD']\n",
      "\n",
      "client = MongoClient()\n",
      "client.edu.authenticate(db_user, db_pwd)\n",
      "db = client.edu\n",
      "log_collection = db.logs\n",
      "results_collection = db.results\n",
      "lookup_collection = db.lookup"
     ],
     "language": "python",
     "metadata": {},
     "outputs": [],
     "prompt_number": ""
    },
    {
     "cell_type": "markdown",
     "metadata": {},
     "source": [
      "# Generate some test data"
     ]
    },
    {
     "cell_type": "code",
     "collapsed": false,
     "input": [
      "CA169_logs = list(log_collection.find({'course': 31103}))\n",
      "CA169_logs = pd.DataFrame(CA169_logs).set_index('_id').sort_index()\n",
      "CA169_logs['time'] = pd.to_datetime(CA169_logs.time, unit='s')"
     ],
     "language": "python",
     "metadata": {},
     "outputs": [],
     "prompt_number": ""
    },
    {
     "cell_type": "code",
     "collapsed": false,
     "input": [
      "CA169_logs[-10:]"
     ],
     "language": "python",
     "metadata": {},
     "outputs": [],
     "prompt_number": ""
    },
    {
     "cell_type": "markdown",
     "metadata": {},
     "source": [
      "# Conversion of dates to week of semester"
     ]
    },
    {
     "cell_type": "code",
     "collapsed": false,
     "input": [
      "from datetime import date, timedelta\n",
      "from dateutil import rrule"
     ],
     "language": "python",
     "metadata": {},
     "outputs": [],
     "prompt_number": ""
    },
    {
     "cell_type": "code",
     "collapsed": false,
     "input": [
      "# Semesters always begin on a Monday\n",
      "# Semesters are always 52 weeks after each other\n",
      "\n",
      "calendar = {\n",
      "    2014: {\"sem1\": date(2013, 9, 30), \"sem2\": date(2014, 2, 10)},\n",
      "    2013: {\"sem1\": date(2012, 9, 24), \"sem2\": date(2013, 2, 4)},\n",
      "    2012: {\"sem1\": date(2011, 9, 26), \"sem2\": date(2012, 2, 6)},\n",
      "    2011: {\"sem1\": date(2010, 9, 27), \"sem2\": date(2011, 2, 7)},\n",
      "    2010: {\"sem1\": date(2009, 9, 28), \"sem2\": date(2010, 2, 8)},\n",
      "    2009: {\"sem1\": date(2008, 9, 29), \"sem2\": date(2009, 2, 9)},\n",
      "    2008: {\"sem1\": date(2007, 9, 24), \"sem2\": date(2008, 2, 15)},\n",
      "}"
     ],
     "language": "python",
     "metadata": {},
     "outputs": [],
     "prompt_number": ""
    },
    {
     "cell_type": "code",
     "collapsed": false,
     "input": [
      "def date_to_week(semester, year, sample_date):\n",
      "    # Approx. every 5 years a year has 53 weeks\n",
      "    last_day_of_year = date(year-1, 12, 31)\n",
      "    last_monday_of_year = last_day_of_year + timedelta(days=-last_day_of_year.weekday())\n",
      "    last_week_no = last_monday_of_year.isocalendar()[1]\n",
      "    num_weeks = 53 if last_week_no == 53 else 52\n",
      "    \n",
      "    return (sample_date.isocalendar()[1] - calendar[year][semester].isocalendar()[1]) % num_weeks"
     ],
     "language": "python",
     "metadata": {},
     "outputs": [],
     "prompt_number": ""
    },
    {
     "cell_type": "markdown",
     "metadata": {},
     "source": [
      "# Resample and convert"
     ]
    },
    {
     "cell_type": "code",
     "collapsed": false,
     "input": [
      "# Add count Column\n",
      "CA169_logs['count'] = pd.Series([1]*len(CA169_logs), index=CA169_logs.index)"
     ],
     "language": "python",
     "metadata": {},
     "outputs": [],
     "prompt_number": ""
    },
    {
     "cell_type": "code",
     "collapsed": false,
     "input": [
      "# Count per person per year per week\n",
      "weekly_count = CA169_logs.groupby(['userid', 'ac_year']).apply(lambda x: x.set_index('time')[['count']].resample(rule='w', how=sum, loffset=Week(weekday=0)))\n",
      "weekly_count['week'] = pd.Series(weekly_count.reset_index().apply(lambda x: date_to_week(\"sem2\", x.ac_year, x.time), axis=1).values, index=weekly_count.index)\n",
      "weekly_count = weekly_count.reset_index().set_index(['userid', 'ac_year', 'week'])['count']\n",
      "count_feature = weekly_count.unstack().fillna(0)\n",
      "\n",
      "# Append name of feature to dataframe\n",
      "new_column_index = [count_feature.columns, ['count']*len(count_feature.columns)]\n",
      "count_feature = pd.DataFrame(count_feature.values, columns=new_column_index, index = count_feature.index)\n",
      "count_feature.columns.names = ['week', 'feature']\n"
     ],
     "language": "python",
     "metadata": {},
     "outputs": [],
     "prompt_number": ""
    },
    {
     "cell_type": "code",
     "collapsed": false,
     "input": [
      "count_feature"
     ],
     "language": "python",
     "metadata": {},
     "outputs": [],
     "prompt_number": ""
    }
   ],
   "metadata": {}
  }
 ]
}