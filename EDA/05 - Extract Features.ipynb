{
 "metadata": {
  "name": "",
  "signature": ""
 },
 "nbformat": 3,
 "nbformat_minor": 0,
 "worksheets": [
  {
   "cells": [
    {
     "cell_type": "code",
     "collapsed": false,
     "input": [
      "import pandas as pd\n",
      "from pymongo import MongoClient\n",
      "import os"
     ],
     "language": "python",
     "metadata": {},
     "outputs": [],
     "prompt_number": ""
    },
    {
     "cell_type": "markdown",
     "metadata": {},
     "source": [
      "# Set up Database"
     ]
    },
    {
     "cell_type": "code",
     "collapsed": false,
     "input": [
      "db_user = os.environ['MONGO_USER']\n",
      "db_pwd = os.environ['MONGO_PWD']\n",
      "\n",
      "client = MongoClient()\n",
      "client.edu.authenticate(db_user, db_pwd)\n",
      "db = client.edu\n",
      "log_collection = db.logs\n",
      "results_collection = db.results\n",
      "lookup_collection = db.lookup"
     ],
     "language": "python",
     "metadata": {},
     "outputs": [],
     "prompt_number": ""
    },
    {
     "cell_type": "markdown",
     "metadata": {},
     "source": [
      "# Generate some test data"
     ]
    },
    {
     "cell_type": "code",
     "collapsed": false,
     "input": [
      "CA169_logs = list(log_collection.find({'course': 31103}))\n",
      "CA169_logs = pd.DataFrame(CA169_logs).set_index('_id').sort_index()\n",
      "CA169_logs['time'] = pd.to_datetime(CA169_logs.time, unit='s')"
     ],
     "language": "python",
     "metadata": {},
     "outputs": [],
     "prompt_number": ""
    },
    {
     "cell_type": "code",
     "collapsed": false,
     "input": [
      "CA169_logs[-10:]"
     ],
     "language": "python",
     "metadata": {},
     "outputs": [],
     "prompt_number": ""
    },
    {
     "cell_type": "markdown",
     "metadata": {},
     "source": [
      "# Conversion of dates to week of semester"
     ]
    },
    {
     "cell_type": "code",
     "collapsed": false,
     "input": [
      "from datetime import date, timedelta\n",
      "from dateutil import rrule"
     ],
     "language": "python",
     "metadata": {},
     "outputs": [],
     "prompt_number": ""
    },
    {
     "cell_type": "code",
     "collapsed": false,
     "input": [
      "# Semesters always begin on a Monday\n",
      "# Semesters are always 52 weeks after each other\n",
      "\n",
      "calendar = {\n",
      "    2014: {\"sem1\": date(2013, 9, 30), \"sem2\": date(2014, 2, 10)},\n",
      "    2013: {\"sem1\": date(2012, 9, 24), \"sem2\": date(2013, 2, 4)},\n",
      "    2012: {\"sem1\": date(2011, 9, 26), \"sem2\": date(2012, 2, 6)},\n",
      "    2011: {\"sem1\": date(2010, 9, 27), \"sem2\": date(2011, 2, 7)},\n",
      "    2010: {\"sem1\": date(2009, 9, 28), \"sem2\": date(2010, 2, 8)},\n",
      "    2009: {\"sem1\": date(2008, 9, 29), \"sem2\": date(2009, 2, 9)},\n",
      "    2008: {\"sem1\": date(2007, 9, 24), \"sem2\": date(2008, 2, 15)},\n",
      "}"
     ],
     "language": "python",
     "metadata": {},
     "outputs": [],
     "prompt_number": ""
    },
    {
     "cell_type": "code",
     "collapsed": false,
     "input": [
      "def date_to_week(semester, year, date):\n",
      "    return (date.isocalendar()[1] - calendar[year][semester].isocalendar()[1]) % 52"
     ],
     "language": "python",
     "metadata": {},
     "outputs": [],
     "prompt_number": ""
    },
    {
     "cell_type": "code",
     "collapsed": false,
     "input": [
      "date_to_week(\"sem2\", 2011, date(2011, 2, 7))"
     ],
     "language": "python",
     "metadata": {},
     "outputs": [],
     "prompt_number": ""
    }
   ],
   "metadata": {}
  }
 ]
}