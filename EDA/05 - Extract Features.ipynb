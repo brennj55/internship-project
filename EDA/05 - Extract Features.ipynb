{
 "metadata": {
  "name": "",
  "signature": ""
 },
 "nbformat": 3,
 "nbformat_minor": 0,
 "worksheets": [
  {
   "cells": [
    {
     "cell_type": "code",
     "collapsed": false,
     "input": [
      "import pandas as pd\n",
      "from pymongo import MongoClient\n",
      "import os"
     ],
     "language": "python",
     "metadata": {},
     "outputs": [],
     "prompt_number": ""
    },
    {
     "cell_type": "code",
     "collapsed": false,
     "input": [
      "from pandas.tseries.offsets import Week"
     ],
     "language": "python",
     "metadata": {},
     "outputs": [],
     "prompt_number": ""
    },
    {
     "cell_type": "code",
     "collapsed": false,
     "input": [
      "from functools import reduce"
     ],
     "language": "python",
     "metadata": {},
     "outputs": [],
     "prompt_number": ""
    },
    {
     "cell_type": "markdown",
     "metadata": {},
     "source": [
      "# Set up Database"
     ]
    },
    {
     "cell_type": "code",
     "collapsed": false,
     "input": [
      "db_user = os.environ['MONGO_USER']\n",
      "db_pwd = os.environ['MONGO_PWD']\n",
      "mongo_ip = os.environ['MONGO_IP']\n",
      "\n",
      "client = MongoClient(mongo_ip)\n",
      "client.edu.authenticate(db_user, db_pwd)\n",
      "db = client.edu\n",
      "log_collection = db.logs\n",
      "results_collection = db.results\n",
      "lookup_collection = db.lookup"
     ],
     "language": "python",
     "metadata": {},
     "outputs": [],
     "prompt_number": ""
    },
    {
     "cell_type": "markdown",
     "metadata": {},
     "source": [
      "# Conversion of dates to week of semester"
     ]
    },
    {
     "cell_type": "code",
     "collapsed": false,
     "input": [
      "from datetime import date, timedelta\n",
      "from dateutil import rrule"
     ],
     "language": "python",
     "metadata": {},
     "outputs": [],
     "prompt_number": ""
    },
    {
     "cell_type": "code",
     "collapsed": false,
     "input": [
      "# Semesters always begin on a Monday\n",
      "# Semesters are always 52 weeks after each other\n",
      "\n",
      "calendar = {\n",
      "    2014: {\"sem1\": date(2013, 9, 30), \"sem2\": date(2014, 2, 10)},\n",
      "    2013: {\"sem1\": date(2012, 9, 24), \"sem2\": date(2013, 2, 4)},\n",
      "    2012: {\"sem1\": date(2011, 9, 26), \"sem2\": date(2012, 2, 6)},\n",
      "    2011: {\"sem1\": date(2010, 9, 27), \"sem2\": date(2011, 2, 7)},\n",
      "    2010: {\"sem1\": date(2009, 9, 28), \"sem2\": date(2010, 2, 8)},\n",
      "    2009: {\"sem1\": date(2008, 9, 29), \"sem2\": date(2009, 2, 9)},\n",
      "    2008: {\"sem1\": date(2007, 9, 24), \"sem2\": date(2008, 2, 15)},\n",
      "}"
     ],
     "language": "python",
     "metadata": {},
     "outputs": [],
     "prompt_number": ""
    },
    {
     "cell_type": "code",
     "collapsed": false,
     "input": [
      "def date_to_week(semester, year, sample_date):\n",
      "    # Approx. every 5 years a year has 53 weeks\n",
      "    last_day_of_year = date(year-1, 12, 31)\n",
      "    last_monday_of_year = last_day_of_year + timedelta(days=-last_day_of_year.weekday())\n",
      "    last_week_no = last_monday_of_year.isocalendar()[1]\n",
      "    num_weeks = 53 if last_week_no == 53 else 52\n",
      "    \n",
      "    return ((sample_date.isocalendar()[1] - calendar[year][semester].isocalendar()[1]) % num_weeks) + 1"
     ],
     "language": "python",
     "metadata": {},
     "outputs": [],
     "prompt_number": ""
    },
    {
     "cell_type": "markdown",
     "metadata": {},
     "source": [
      "# Method to extract generic log feature"
     ]
    },
    {
     "cell_type": "code",
     "collapsed": false,
     "input": [
      "def get_logs(course_id):\n",
      "    logs = list(log_collection.find({'course': course_id}))\n",
      "    logs = pd.DataFrame(logs).set_index('_id').sort_index()\n",
      "    logs['time'] = pd.to_datetime(logs.time, unit='s')\n",
      "    return logs\n",
      "\n",
      "def extract_log_feature(logs, feature_name, feature_extractor, resample_method, fill):\n",
      "    # Add feature column\n",
      "    logs[feature_name] = feature_extractor(logs)\n",
      "    \n",
      "    # Extract feature per person per year per week\n",
      "    weekly_feature = logs.groupby(['userid', 'ac_year']).apply(lambda x: x.set_index('time')[[feature_name]].resample(rule='w', how=resample_method, loffset=Week(weekday=0)))\n",
      "    weekly_feature['week'] = pd.Series(weekly_feature.reset_index().apply(lambda x: date_to_week(\"sem2\", x.ac_year, x.time), axis=1).values, index=weekly_feature.index)\n",
      "    weekly_feature = weekly_feature.reset_index().set_index(['userid', 'ac_year', 'week'])[feature_name]\n",
      "    feature_matrix = weekly_feature.unstack()\n",
      "    \n",
      "    # Fill values\n",
      "    if (fill == \"avg\"):\n",
      "        feature_matrix = feature_matrix.T.fillna(feature_matrix.T.mean()).T\n",
      "    else:\n",
      "        feature_matrix = feature_matrix.fillna(fill)\n",
      "\n",
      "    # Append name of feature to dataframe\n",
      "    new_column_index = [feature_matrix.columns, [feature_name]*len(feature_matrix.columns)]\n",
      "    feature_matrix = pd.DataFrame(feature_matrix.values, columns=new_column_index, index = feature_matrix.index)\n",
      "    feature_matrix.columns.names = ['week', 'feature']\n",
      "\n",
      "    return feature_matrix"
     ],
     "language": "python",
     "metadata": {},
     "outputs": [],
     "prompt_number": ""
    },
    {
     "cell_type": "code",
     "collapsed": false,
     "input": [
      "def count_extractor(logs):\n",
      "    return logs.ip.apply(lambda x: 1)\n",
      "\n",
      "count_feature = extract_log_feature(get_logs(31103), 'count', count_extractor, sum, 0)"
     ],
     "language": "python",
     "metadata": {},
     "outputs": [],
     "prompt_number": ""
    },
    {
     "cell_type": "code",
     "collapsed": false,
     "input": [
      "def hour_extractor(logs):\n",
      "    return logs.time.apply(lambda x: x.hour)\n",
      "\n",
      "time_feature = extract_log_feature(get_logs(31103), 'avg_time', hour_extractor, \"mean\", \"avg\")"
     ],
     "language": "python",
     "metadata": {},
     "outputs": [],
     "prompt_number": ""
    },
    {
     "cell_type": "code",
     "collapsed": false,
     "input": [
      "def in_dcu_extractor(logs):\n",
      "    return logs.ip.apply(lambda x: x.startswith(\"136.206\") * 1)\n",
      "\n",
      "ip_feature = extract_log_feature(get_logs(31103), 'in_dcu', in_dcu_extractor, \"mean\", -1)"
     ],
     "language": "python",
     "metadata": {},
     "outputs": [],
     "prompt_number": ""
    },
    {
     "cell_type": "markdown",
     "metadata": {},
     "source": [
      "# Generic Method to extract static feature"
     ]
    },
    {
     "cell_type": "code",
     "collapsed": false,
     "input": [
      "def rename(feature):\n",
      "    columns = list(feature.columns)\n",
      "    return pd.DataFrame(feature.values, columns=[[0]*len(columns), columns], index=feature.index)"
     ],
     "language": "python",
     "metadata": {},
     "outputs": [],
     "prompt_number": ""
    },
    {
     "cell_type": "code",
     "collapsed": false,
     "input": [
      "def extract_age(results):\n",
      "    exam_year = pd.Series(results.reset_index().Year.values, index=results.index)\n",
      "    birth_year = results['dob'].apply(lambda x: x.year)\n",
      "    return pd.DataFrame(exam_year - birth_year, columns=['age'])"
     ],
     "language": "python",
     "metadata": {},
     "outputs": [],
     "prompt_number": ""
    },
    {
     "cell_type": "code",
     "collapsed": false,
     "input": [
      "def extract_citizenship_cat(results):\n",
      "    citz_cat = pd.DataFrame()\n",
      "    \n",
      "    codes = (results['Citz / Nationality'].value_counts() / len(results) > 0.05)\n",
      "    codes = (results['Citz / Nationality'].value_counts())[codes].index.tolist() + ['OTHER']\n",
      "    citz_codes = results['Citz / Nationality'].apply(lambda x: \"OTHER\" if x not in codes else x)\n",
      "    \n",
      "    for code in codes:\n",
      "        citz_cat[\"citz_\"+code] = (citz_codes == code) * 1\n",
      "    return citz_cat"
     ],
     "language": "python",
     "metadata": {},
     "outputs": [],
     "prompt_number": ""
    },
    {
     "cell_type": "markdown",
     "metadata": {},
     "source": [
      "# Method to extract features from any module"
     ]
    },
    {
     "cell_type": "code",
     "collapsed": false,
     "input": [
      "lookup = pd.DataFrame(list(lookup_collection.find()))\n",
      "\n",
      "def most_used_moodle_id(course):\n",
      "    moodle_ids = [int(i) for i in lookup[lookup['module_id']==course].moodle_id]\n",
      "    \n",
      "    if len(moodle_ids)==1: return moodle_ids[0]\n",
      "    \n",
      "    agg_query = [\n",
      "        {'$match': {'course': {'$in': moodle_ids}}},\n",
      "        {'$group': {'_id': '$course', 'count': {'$sum': 1}}}\n",
      "    ]\n",
      "    \n",
      "    moodle_id_counts = log_collection.aggregate(agg_query)['result']\n",
      "    \n",
      "    return int(pd.DataFrame(moodle_id_counts).set_index('_id')['count'].argmax())"
     ],
     "language": "python",
     "metadata": {},
     "outputs": [],
     "prompt_number": ""
    },
    {
     "cell_type": "code",
     "collapsed": false,
     "input": [
      "def extract_features(module_id, moodle_id=None):\n",
      "    \"\"\"\n",
      "    extracts features from a given module\n",
      "    module_id - e.g. \"CA169\", \"MG101\"\n",
      "    moodle_ids - which moodle_ids to include. Useful for seperating modules run with in the same semester.\n",
      "                 Too decide which to include look at moodle activity plot. Must be associated with module_id.\n",
      "                 If this is none, use most used moodle_id\n",
      "    \"\"\"\n",
      "    \n",
      "    if moodle_id is None:\n",
      "        moodle_id = most_used_moodle_id(module_id)\n",
      "        \n",
      "    logs = pd.DataFrame(list(log_collection.find({'course': moodle_id})))\n",
      "    logs = pd.DataFrame(logs).set_index('_id').sort_index()\n",
      "    logs['time'] = pd.to_datetime(logs.time, unit='s')\n",
      "    \n",
      "    results = pd.DataFrame(list(results_collection.find({'moodle_id': moodle_id})))\n",
      "    results = results.set_index(['Moodleid', 'Year']).sort_index()\n",
      "    \n",
      "    def count_extractor(logs):\n",
      "        return logs.ip.apply(lambda x: 1)\n",
      "    def hour_extractor(logs):\n",
      "        return logs.time.apply(lambda x: x.hour)\n",
      "    def in_dcu_extractor(logs):\n",
      "        return logs.ip.apply(lambda x: x.startswith(\"136.206\") * 1)\n",
      "\n",
      "    count_feature = extract_log_feature(logs, 'count', count_extractor, sum, 0)\n",
      "    time_feature = extract_log_feature(logs, 'avg_time', hour_extractor, \"mean\", \"avg\")\n",
      "    ip_feature = extract_log_feature(logs, 'in_dcu', in_dcu_extractor, \"mean\", -1)\n",
      "    \n",
      "    dist_feature = rename(results[['dist']])\n",
      "    gender_feature = rename((results[['Gender']]=='M') * 1)\n",
      "    citzen_feature = rename(extract_citizenship_cat(results))\n",
      "    repeat_count_feature = rename(results[['repeat_count']])\n",
      "    age_feature = rename(extract_age(results))\n",
      "    \n",
      "    pass_feature = ((results[['Exam Result']]=='P')*1).rename(columns={'Exam Result': 'pass'})\n",
      "    \n",
      "    features = [dist_feature, gender_feature, age_feature, citzen_feature, repeat_count_feature, count_feature, time_feature, ip_feature]\n",
      "    all_features = reduce(lambda x, y: (x.merge(y, left_index=True, right_index=True)), features[1:], features[0]).sort_index(axis=1)\n",
      "    \n",
      "    return all_features"
     ],
     "language": "python",
     "metadata": {},
     "outputs": [],
     "prompt_number": ""
    },
    {
     "cell_type": "code",
     "collapsed": false,
     "input": [
      "# Example usage:\n",
      "\n",
      "BE102_features = extract_features('BE102')\n",
      "BE102_features"
     ],
     "language": "python",
     "metadata": {},
     "outputs": [],
     "prompt_number": ""
    }
   ],
   "metadata": {}
  }
 ]
}