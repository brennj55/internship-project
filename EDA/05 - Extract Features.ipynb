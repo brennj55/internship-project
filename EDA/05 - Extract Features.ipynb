{
 "metadata": {
  "name": "",
  "signature": ""
 },
 "nbformat": 3,
 "nbformat_minor": 0,
 "worksheets": [
  {
   "cells": [
    {
     "cell_type": "code",
     "collapsed": false,
     "input": [
      "import pandas as pd\n",
      "from pymongo import MongoClient\n",
      "import os"
     ],
     "language": "python",
     "metadata": {},
     "outputs": [],
     "prompt_number": ""
    },
    {
     "cell_type": "code",
     "collapsed": false,
     "input": [
      "from pandas.tseries.offsets import Week"
     ],
     "language": "python",
     "metadata": {},
     "outputs": [],
     "prompt_number": ""
    },
    {
     "cell_type": "code",
     "collapsed": false,
     "input": [
      "from functools import reduce"
     ],
     "language": "python",
     "metadata": {},
     "outputs": [],
     "prompt_number": ""
    },
    {
     "cell_type": "code",
     "collapsed": false,
     "input": [
      "import matplotlib.pylab as pylab\n",
      "pylab.rcParams['figure.figsize'] = 16, 10"
     ],
     "language": "python",
     "metadata": {},
     "outputs": [],
     "prompt_number": ""
    },
    {
     "cell_type": "code",
     "collapsed": false,
     "input": [
      "from IPython.html.widgets import interact, interactive, fixed, DropdownWidget\n",
      "from IPython.html import widgets\n",
      "from IPython.display import clear_output, display, HTML"
     ],
     "language": "python",
     "metadata": {},
     "outputs": [],
     "prompt_number": ""
    },
    {
     "cell_type": "code",
     "collapsed": false,
     "input": [
      "from sklearn import datasets, svm, cross_validation, linear_model\n",
      "from sklearn.preprocessing import scale\n",
      "from sklearn.cross_validation import cross_val_score\n",
      "from sklearn.decomposition import PCA\n",
      "\n",
      "from sklearn.ensemble import ExtraTreesClassifier"
     ],
     "language": "python",
     "metadata": {},
     "outputs": [],
     "prompt_number": ""
    },
    {
     "cell_type": "code",
     "collapsed": false,
     "input": [
      "from datetime import date, timedelta"
     ],
     "language": "python",
     "metadata": {},
     "outputs": [],
     "prompt_number": ""
    },
    {
     "cell_type": "code",
     "collapsed": false,
     "input": [
      "from IPython.parallel import Client, require, depend\n",
      "\n",
      "c = Client()\n",
      "lview = c.load_balanced_view()"
     ],
     "language": "python",
     "metadata": {},
     "outputs": [],
     "prompt_number": ""
    },
    {
     "cell_type": "markdown",
     "metadata": {},
     "source": [
      "# Set up Database"
     ]
    },
    {
     "cell_type": "code",
     "collapsed": false,
     "input": [
      "db_user = os.environ['MONGO_USER']\n",
      "db_pwd = os.environ['MONGO_PWD']\n",
      "mongo_ip = os.environ['MONGO_IP']\n",
      "\n",
      "client = MongoClient(mongo_ip)\n",
      "client.edu.authenticate(db_user, db_pwd)\n",
      "db = client.edu\n",
      "log_collection = db.logs\n",
      "results_collection = db.results\n",
      "lookup_collection = db.lookup"
     ],
     "language": "python",
     "metadata": {},
     "outputs": []
    },
    {
     "cell_type": "markdown",
     "metadata": {},
     "source": [
      "# Conversion of dates to week of semester"
     ]
    },
    {
     "cell_type": "code",
     "collapsed": false,
     "input": [
      "# Semesters always begin on a Monday\n",
      "# Semesters are always 52 weeks after each other\n",
      "\n",
      "calendar = {\n",
      "    2014: {\"sem1\": date(2013, 9, 30), \"sem2\": date(2014, 2, 10)},\n",
      "    2013: {\"sem1\": date(2012, 9, 24), \"sem2\": date(2013, 2, 4)},\n",
      "    2012: {\"sem1\": date(2011, 9, 26), \"sem2\": date(2012, 2, 6)},\n",
      "    2011: {\"sem1\": date(2010, 9, 27), \"sem2\": date(2011, 2, 7)},\n",
      "    2010: {\"sem1\": date(2009, 9, 28), \"sem2\": date(2010, 2, 8)},\n",
      "    2009: {\"sem1\": date(2008, 9, 29), \"sem2\": date(2009, 2, 9)},\n",
      "    2008: {\"sem1\": date(2007, 9, 24), \"sem2\": date(2008, 2, 15)},\n",
      "}"
     ],
     "language": "python",
     "metadata": {},
     "outputs": [],
     "prompt_number": ""
    },
    {
     "cell_type": "code",
     "collapsed": false,
     "input": [
      "def date_to_week(semester, year, sample_date):\n",
      "    # Approx. every 5 years a year has 53 weeks\n",
      "    last_day_of_year = date(year-1, 12, 31)\n",
      "    last_monday_of_year = last_day_of_year + timedelta(days=-last_day_of_year.weekday())\n",
      "    last_week_no = last_monday_of_year.isocalendar()[1]\n",
      "    num_weeks = 53 if last_week_no == 53 else 52\n",
      "    \n",
      "    return ((sample_date.isocalendar()[1] - calendar[year][semester].isocalendar()[1]) % num_weeks) + 1"
     ],
     "language": "python",
     "metadata": {},
     "outputs": [],
     "prompt_number": ""
    },
    {
     "cell_type": "markdown",
     "metadata": {},
     "source": [
      "# Method to extract generic log feature"
     ]
    },
    {
     "cell_type": "code",
     "collapsed": false,
     "input": [
      "def extract_log_feature(logs, sem, feature_name, feature_extractor, resample_method, fill):\n",
      "    # Remove Na's\n",
      "    logs = logs.dropna(subset=['ip'])\n",
      "    \n",
      "    # Add feature column\n",
      "    logs[feature_name] = feature_extractor(logs)\n",
      "    \n",
      "    # Extract feature per person per year per week\n",
      "    weekly_feature = logs.groupby(['userid', 'ac_year']).apply(lambda x: x.set_index('time')[[feature_name]].resample(rule='w', how=resample_method, loffset=Week(weekday=0)))\n",
      "    weekly_feature['week'] = pd.Series(weekly_feature.reset_index().apply(lambda x: date_to_week(sem, x.ac_year, x.time), axis=1).values, index=weekly_feature.index)\n",
      "    weekly_feature = weekly_feature.reset_index().drop_duplicates(cols=['userid', 'ac_year', 'week']).set_index(['userid', 'ac_year', 'week'])[feature_name]\n",
      "    feature_matrix = weekly_feature.unstack()\n",
      "    \n",
      "    # Fill values\n",
      "    if (fill == \"avg\"):\n",
      "        feature_matrix = feature_matrix.T.fillna(feature_matrix.T.mean()).T\n",
      "    else:\n",
      "        feature_matrix = feature_matrix.fillna(fill)\n",
      "\n",
      "    # Append name of feature to dataframe\n",
      "    new_column_index = [feature_matrix.columns, [feature_name]*len(feature_matrix.columns)]\n",
      "    feature_matrix = pd.DataFrame(feature_matrix.values, columns=new_column_index, index = feature_matrix.index)\n",
      "    feature_matrix.columns.names = ['week', 'feature']\n",
      "\n",
      "    return feature_matrix"
     ],
     "language": "python",
     "metadata": {},
     "outputs": [],
     "prompt_number": ""
    },
    {
     "cell_type": "code",
     "collapsed": false,
     "input": [
      "def count_extractor(logs):\n",
      "    return logs.ip.apply(lambda x: 1)\n",
      "\n",
      "def hour_extractor(logs):\n",
      "    return logs.time.apply(lambda x: x.hour)\n",
      "\n",
      "def in_dcu_extractor(logs):\n",
      "    return logs.ip.apply(lambda x: x.startswith(\"136.206\") * 1)\n",
      "\n",
      "def weekend_extractor(X):\n",
      "    return X.time.apply(lambda y: y.weekday() in [5, 6])"
     ],
     "language": "python",
     "metadata": {},
     "outputs": [],
     "prompt_number": ""
    },
    {
     "cell_type": "markdown",
     "metadata": {},
     "source": [
      "# Methods to extract static features"
     ]
    },
    {
     "cell_type": "code",
     "collapsed": false,
     "input": [
      "def rename(feature):\n",
      "    columns = list(feature.columns)\n",
      "    return pd.DataFrame(feature.values, columns=[[0]*len(columns), columns], index=feature.index)"
     ],
     "language": "python",
     "metadata": {},
     "outputs": [],
     "prompt_number": ""
    },
    {
     "cell_type": "code",
     "collapsed": false,
     "input": [
      "def extract_age(results):\n",
      "    exam_year = pd.Series(results.reset_index().Year.values, index=results.index)\n",
      "    birth_year = results['dob'].apply(lambda x: x.year)\n",
      "    return pd.DataFrame(exam_year - birth_year, columns=['age'])"
     ],
     "language": "python",
     "metadata": {},
     "outputs": [],
     "prompt_number": ""
    },
    {
     "cell_type": "code",
     "collapsed": false,
     "input": [
      "def extract_citizenship_cat(results):\n",
      "    citz_cat = pd.DataFrame()\n",
      "    \n",
      "    codes = (results['Citz / Nationality'].value_counts() / len(results) > 0.05)\n",
      "    codes = (results['Citz / Nationality'].value_counts())[codes].index.tolist() + ['OTHER']\n",
      "    citz_codes = results['Citz / Nationality'].apply(lambda x: \"OTHER\" if x not in codes else x)\n",
      "    \n",
      "    for code in codes:\n",
      "        citz_cat[\"citz_\"+code] = (citz_codes == code) * 1\n",
      "    return citz_cat"
     ],
     "language": "python",
     "metadata": {},
     "outputs": [],
     "prompt_number": ""
    },
    {
     "cell_type": "markdown",
     "metadata": {},
     "source": [
      "# Method to extract features from any module"
     ]
    },
    {
     "cell_type": "code",
     "collapsed": false,
     "input": [
      "lookup = pd.DataFrame(list(lookup_collection.find()))\n",
      "\n",
      "def most_used_moodle_id(course):\n",
      "    moodle_ids = [int(i) for i in lookup[lookup['module_id']==course].moodle_id]\n",
      "    \n",
      "    if len(moodle_ids)==1: return moodle_ids[0]\n",
      "    \n",
      "    agg_query = [\n",
      "        {'$match': {'course': {'$in': moodle_ids}}},\n",
      "        {'$group': {'_id': '$course', 'count': {'$sum': 1}}}\n",
      "    ]\n",
      "    \n",
      "    moodle_id_counts = log_collection.aggregate(agg_query)['result']\n",
      "    \n",
      "    return int(pd.DataFrame(moodle_id_counts).set_index('_id')['count'].argmax())"
     ],
     "language": "python",
     "metadata": {},
     "outputs": [],
     "prompt_number": ""
    },
    {
     "cell_type": "code",
     "collapsed": false,
     "input": [
      "def extract_features(logs, results, sem):\n",
      "    \"\"\"\n",
      "    extracts features from a given module\n",
      "    module_id - e.g. \"CA169\", \"MG101\"\n",
      "    moodle_ids - which moodle_ids to include. Useful for seperating modules run with in the same semester.\n",
      "                 Too decide which to include look at moodle activity plot. Must be associated with module_id.\n",
      "                 If this is none, use most used moodle_id\n",
      "    \"\"\"\n",
      "\n",
      "    def count_extractor(logs):\n",
      "        return logs.ip.apply(lambda x: 1)\n",
      "    def hour_extractor(logs):\n",
      "        return logs.time.apply(lambda x: x.hour)\n",
      "    def in_dcu_extractor(logs):\n",
      "        return logs.ip.apply(lambda x: x.startswith(\"136.206\") * 1)\n",
      "\n",
      "    count_feature = extract_log_feature(logs, sem, 'count', count_extractor, sum, 0)\n",
      "    time_feature = extract_log_feature(logs, sem, 'avg_time', hour_extractor, \"mean\", -1)\n",
      "    ip_feature = extract_log_feature(logs, sem, 'in_dcu', in_dcu_extractor, \"mean\", -1)\n",
      "    weekend_feature = extract_log_feature(logs, sem, 'weekend_count', weekend_extractor, sum, 0)\n",
      "    \n",
      "    dist_feature = rename(results[['dist']])\n",
      "    gender_feature = rename((results[['Gender']]=='M') * 1)\n",
      "    citzen_feature = rename(extract_citizenship_cat(results))\n",
      "    repeat_count_feature = rename(results[['repeat_count']])\n",
      "    age_feature = rename(extract_age(results))\n",
      "    \n",
      "    features = [dist_feature, gender_feature, age_feature, citzen_feature, repeat_count_feature,\n",
      "                count_feature, time_feature, ip_feature, weekend_feature]\n",
      "    all_features = reduce(lambda x, y: (x.merge(y, left_index=True, right_index=True)), features[1:], features[0]).sort_index(axis=1)\n",
      "    \n",
      "    pass_feature = ((results[['Exam Result']]=='P')*1)['Exam Result'][all_features.index]\n",
      "    \n",
      "    return all_features, pass_feature"
     ],
     "language": "python",
     "metadata": {},
     "outputs": [],
     "prompt_number": ""
    },
    {
     "cell_type": "markdown",
     "metadata": {},
     "source": [
      "# Pre compute top features"
     ]
    },
    {
     "cell_type": "code",
     "collapsed": false,
     "input": [
      "practical_courses = ['LG101', 'HR101', 'BE101', 'MS136', 'NS114', 'SS103', 'CA103', 'NS112', 'PS122', 'ES125', 'ES106', 'ES102',\n",
      "           'LG127', 'LG116', 'CA165']"
     ],
     "language": "python",
     "metadata": {},
     "outputs": [],
     "prompt_number": ""
    },
    {
     "cell_type": "code",
     "collapsed": false,
     "input": [
      "def get_logs(module_id):\n",
      "    logs = pd.DataFrame(list(log_collection.find({'course': most_used_moodle_id(module_id)})))\n",
      "    logs = logs.set_index('_id').sort_index()\n",
      "    logs['time'] = pd.to_datetime(logs.time, unit='s')\n",
      "    return logs"
     ],
     "language": "python",
     "metadata": {},
     "outputs": [],
     "prompt_number": ""
    },
    {
     "cell_type": "code",
     "collapsed": false,
     "input": [
      "def get_results(module_id):\n",
      "    moodle_id = most_used_moodle_id(module_id)\n",
      "    results = pd.DataFrame(list(results_collection.find({'moodle_id': moodle_id})))\n",
      "    results = results.set_index(['Moodleid', 'Year']).sort_index()\n",
      "    return results"
     ],
     "language": "python",
     "metadata": {},
     "outputs": [],
     "prompt_number": ""
    },
    {
     "cell_type": "code",
     "collapsed": false,
     "input": [
      "%%time\n",
      "sem1_logs = {i: {'logs': get_logs(i), 'results': get_results(i)} for i in practical_courses}"
     ],
     "language": "python",
     "metadata": {},
     "outputs": [],
     "prompt_number": ""
    },
    {
     "cell_type": "code",
     "collapsed": false,
     "input": [
      "%%time\n",
      "sem1_features = {k: extract_features(v['logs'], v['results'], 'sem1') for k,v in sem1_logs.items()}"
     ],
     "language": "python",
     "metadata": {},
     "outputs": [],
     "prompt_number": ""
    },
    {
     "cell_type": "markdown",
     "metadata": {},
     "source": [
      "# Graph effect of PCA on performance of sample module"
     ]
    },
    {
     "cell_type": "code",
     "collapsed": false,
     "input": [
      "@lview.parallel(block=True)\n",
      "@require('sklearn.decomposition', 'pandas')\n",
      "def pca_accuracy(Xy):\n",
      "    X, y = Xy\n",
      "    classifier = sklearn.svm.SVC(kernel='linear')\n",
      "    acc_by_week = {}\n",
      "\n",
      "    for week in range(0, 52, 10):\n",
      "        acc_by_pca_n = {}\n",
      "\n",
      "        for pca_n in range(1, len(X.ix[:, :week].columns), 10):\n",
      "            pca = sklearn.decomposition.PCA(pca_n)\n",
      "            pca.fit(sklearn.preprocessing.scale(X.ix[:, :week]))\n",
      "            X1 = pca.transform(sklearn.preprocessing.scale(X.ix[:, :week]))\n",
      "            acc_by_pca_n[pca_n] = sklearn.cross_validation.cross_val_score(classifier, X1, y, cv=5,  scoring='roc_auc').mean()\n",
      "\n",
      "        acc_by_week[week] = acc_by_pca_n\n",
      "    acc_df = pandas.DataFrame(acc_by_week)\n",
      "    acc_df['base'] = [y.mean()] * len(acc_df)\n",
      "    return acc_df.to_dict()"
     ],
     "language": "python",
     "metadata": {},
     "outputs": [],
     "prompt_number": ""
    },
    {
     "cell_type": "code",
     "collapsed": false,
     "input": [
      "%%time\n",
      "pca_accuracies = pca_accuracy.map(list(sem1_features.values()))\n",
      "pca_accuracies = dict(zip(sem1_features.keys(), pca_accuracies))"
     ],
     "language": "python",
     "metadata": {},
     "outputs": [],
     "prompt_number": ""
    },
    {
     "cell_type": "code",
     "collapsed": false,
     "input": [
      "def plot_pca(accuracies):\n",
      "    pd.DataFrame(accuracies).plot()"
     ],
     "language": "python",
     "metadata": {},
     "outputs": [],
     "prompt_number": ""
    },
    {
     "cell_type": "code",
     "collapsed": false,
     "input": [
      "interact(plot_pca,\n",
      "         accuracies = pca_accuracies)"
     ],
     "language": "python",
     "metadata": {},
     "outputs": [],
     "prompt_number": ""
    },
    {
     "cell_type": "markdown",
     "metadata": {},
     "source": [
      "It is inconclusive what a good value of N should be, depends on the course\n",
      "\n",
      "In a lot of courses, for high values numbers of features, low values of PCA work better. Particularly true for modules with lower pass rates (< 0.9)"
     ]
    },
    {
     "cell_type": "markdown",
     "metadata": {},
     "source": [
      "# Method to display accuracy of predicting features by week"
     ]
    },
    {
     "cell_type": "code",
     "collapsed": false,
     "input": [
      "@lview.parallel(block=True)\n",
      "@require('sklearn.svm')\n",
      "def accuracy_by_week(Xy):\n",
      "    X, y = Xy\n",
      "    accuracy_by_week = []\n",
      "    for weeks in range(52):\n",
      "        classifier = sklearn.svm.SVC(kernel='linear')\n",
      "        X1 = sklearn.preprocessing.scale(X.ix[:, :weeks])\n",
      "        roc_score = sklearn.cross_validation.cross_val_score(classifier, X1, y, cv=10, scoring='roc_auc')\n",
      "        classifier_score = sklearn.cross_validation.cross_val_score(classifier, X1, y, cv=10)\n",
      "        accuracy_by_week += [[classifier_score.mean(), roc_score.mean(), y.mean()]]\n",
      "    return accuracy_by_week"
     ],
     "language": "python",
     "metadata": {},
     "outputs": [],
     "prompt_number": ""
    },
    {
     "cell_type": "code",
     "collapsed": false,
     "input": [
      "%%time\n",
      "svm_accuracies = accuracy_by_week.map(list(sem1_features.values()))\n",
      "svm_accuracies = dict(zip(sem1_features.keys(), svm_accuracies))"
     ],
     "language": "python",
     "metadata": {},
     "outputs": []
    },
    {
     "cell_type": "code",
     "collapsed": false,
     "input": [
      "def plot_svm_by_week(performance):\n",
      "    pd.DataFrame(performance, columns=['accuracy', 'ROC AUC', 'pass rate']).plot()"
     ],
     "language": "python",
     "metadata": {},
     "outputs": []
    },
    {
     "cell_type": "code",
     "collapsed": false,
     "input": [
      "interact(plot_svm_by_week,\n",
      "         performance = svm_accuracies)"
     ],
     "language": "python",
     "metadata": {},
     "outputs": []
    },
    {
     "cell_type": "markdown",
     "metadata": {},
     "source": [
      "Note that Accuracy is more susceptible to bias due to unbalanced classes"
     ]
    },
    {
     "cell_type": "markdown",
     "metadata": {},
     "source": [
      "# Comparison of MS136 AUC_ROC with and without weekend feature"
     ]
    },
    {
     "cell_type": "code",
     "collapsed": false,
     "input": [
      "X = sem1_features['MS136'][0]\n",
      "y = sem1_features['MS136'][1]"
     ],
     "language": "python",
     "metadata": {},
     "outputs": [],
     "prompt_number": ""
    },
    {
     "cell_type": "code",
     "collapsed": false,
     "input": [
      "include = set([i[1] for i in X.columns]) - set(['weekend_count'])"
     ],
     "language": "python",
     "metadata": {},
     "outputs": [],
     "prompt_number": ""
    },
    {
     "cell_type": "code",
     "collapsed": false,
     "input": [
      "X1 = X.swaplevel(0, 1, axis=1)[list(include)].swaplevel(0, 1, axis=1)"
     ],
     "language": "python",
     "metadata": {},
     "outputs": [],
     "prompt_number": ""
    },
    {
     "cell_type": "code",
     "collapsed": false,
     "input": [
      "%%time\n",
      "\n",
      "score = {}\n",
      "classifier = svm.SVC(kernel='linear')\n",
      "\n",
      "for week in range(52):    \n",
      "    X_scale = scale(X.ix[:, :week])\n",
      "    X1_scale = scale(X1.ix[:, :week])\n",
      "    score[week] = [cross_val_score(classifier, X_scale, y, cv=10, scoring='roc_auc').mean(),\n",
      "                    cross_val_score(classifier, X1_scale, y, cv=10, scoring='roc_auc').mean()]"
     ],
     "language": "python",
     "metadata": {},
     "outputs": [],
     "prompt_number": ""
    },
    {
     "cell_type": "code",
     "collapsed": false,
     "input": [
      "pd.DataFrame(score, index=['all', 'no weekend']).T.plot()"
     ],
     "language": "python",
     "metadata": {},
     "outputs": [],
     "prompt_number": ""
    },
    {
     "cell_type": "markdown",
     "metadata": {},
     "source": [
      "Performance is worse when weekend features are included. The difference is not very significant"
     ]
    },
    {
     "cell_type": "markdown",
     "metadata": {},
     "source": [
      "# Graph top features for modules"
     ]
    },
    {
     "cell_type": "code",
     "collapsed": false,
     "input": [
      "def plot_best_features(Xy):\n",
      "    X, y = Xy\n",
      "    forest = ExtraTreesClassifier(n_estimators=250,\n",
      "                              random_state=0)\n",
      "    forest.fit(X.ix[:, :20], y)\n",
      "    importances = pd.DataFrame(forest.feature_importances_, index=X.ix[:, :20].columns)[0]\n",
      "    importances.order(ascending=False)[:50].plot(kind='bar')"
     ],
     "language": "python",
     "metadata": {},
     "outputs": [],
     "prompt_number": ""
    },
    {
     "cell_type": "code",
     "collapsed": false,
     "input": [
      "interact(plot_best_features,\n",
      "         Xy = sem1_features)"
     ],
     "language": "python",
     "metadata": {},
     "outputs": [],
     "prompt_number": ""
    }
   ],
   "metadata": {}
  }
 ]
}