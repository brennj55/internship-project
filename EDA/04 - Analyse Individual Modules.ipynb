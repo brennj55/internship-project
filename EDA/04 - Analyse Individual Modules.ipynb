{
 "metadata": {
  "name": "",
  "signature": "sha256:ef8c795a0eac93d32cf0495b25559abf9c50c877f4a4f9a4dd8e1178f1f6c12c"
 },
 "nbformat": 3,
 "nbformat_minor": 0,
 "worksheets": [
  {
   "cells": [
    {
     "cell_type": "code",
     "collapsed": false,
     "input": [
      "import pandas as pd"
     ],
     "language": "python",
     "metadata": {},
     "outputs": [],
     "prompt_number": 1
    },
    {
     "cell_type": "code",
     "collapsed": false,
     "input": [],
     "language": "python",
     "metadata": {},
     "outputs": []
    }
   ],
   "metadata": {}
  }
 ]
}