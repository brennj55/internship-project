{
 "metadata": {
  "name": "",
  "signature": ""
 },
 "nbformat": 3,
 "nbformat_minor": 0,
 "worksheets": [
  {
   "cells": [
    {
     "cell_type": "code",
     "collapsed": false,
     "input": [
      "import pandas as pd\n",
      "from pymongo import MongoClient\n",
      "import os"
     ],
     "language": "python",
     "metadata": {},
     "outputs": [],
     "prompt_number": ""
    },
    {
     "cell_type": "code",
     "collapsed": false,
     "input": [
      "from IPython.html.widgets import interact, interactive, fixed, DropdownWidget\n",
      "from IPython.html import widgets\n",
      "from IPython.display import clear_output, display, HTML"
     ],
     "language": "python",
     "metadata": {},
     "outputs": [],
     "prompt_number": ""
    },
    {
     "cell_type": "code",
     "collapsed": false,
     "input": [
      "db_user = os.environ['MONGO_USER']\n",
      "db_pwd = os.environ['MONGO_PWD']\n",
      "mongo_ip = os.environ['MONGO_IP']\n",
      "\n",
      "client = MongoClient(mongo_ip)\n",
      "db = client.edu\n",
      "client.edu.authenticate(db_user, db_pwd)\n",
      "log_collection = db.logs\n",
      "results_collection = db.results\n",
      "lookup_collection = db.lookup"
     ],
     "language": "python",
     "metadata": {},
     "outputs": [],
     "prompt_number": ""
    },
    {
     "cell_type": "code",
     "collapsed": false,
     "input": [
      "lookup = pd.DataFrame(list(lookup_collection.find())).set_index('moodle_id').module_id"
     ],
     "language": "python",
     "metadata": {},
     "outputs": [],
     "prompt_number": ""
    },
    {
     "cell_type": "code",
     "collapsed": false,
     "input": [
      "import matplotlib.pylab as pylab\n",
      "pylab.rcParams['figure.figsize'] = 16, 10"
     ],
     "language": "python",
     "metadata": {},
     "outputs": [],
     "prompt_number": ""
    },
    {
     "cell_type": "markdown",
     "metadata": {},
     "source": [
      "# Most popular Modules by results"
     ]
    },
    {
     "cell_type": "code",
     "collapsed": false,
     "input": [
      "agg_query = [{\"$group\" : {\"_id\": \"$moodle_id\", \"result_count\": {\"$sum\": 1}}},\n",
      "             {\"$sort\": {\"result_count\": -1}},\n",
      "             {\"$match\": {\"result_count\": {\"$gte\": 10}}}\n",
      "            ]\n",
      "result = results_collection.aggregate(agg_query)['result']"
     ],
     "language": "python",
     "metadata": {},
     "outputs": [],
     "prompt_number": ""
    },
    {
     "cell_type": "code",
     "collapsed": false,
     "input": [
      "lookup = pd.DataFrame(list(lookup_collection.find()))[[\"module_id\", \"moodle_id\"]].set_index('moodle_id')"
     ],
     "language": "python",
     "metadata": {},
     "outputs": [],
     "prompt_number": ""
    },
    {
     "cell_type": "code",
     "collapsed": false,
     "input": [
      "course_counts = pd.DataFrame(result).rename(columns={'_id': 'moodle_id'}).set_index('moodle_id')[['result_count']]\n",
      "course_counts = lookup.join(course_counts).dropna()"
     ],
     "language": "python",
     "metadata": {},
     "outputs": [],
     "prompt_number": ""
    },
    {
     "cell_type": "markdown",
     "metadata": {},
     "source": [
      "# Most popular modules by Moodle Activity\n",
      "\n",
      "(e.g. whether a single person took that module)"
     ]
    },
    {
     "cell_type": "code",
     "collapsed": false,
     "input": [
      "agg_query = [#{\"$match\" : {\"course\": {\"$in\" : [37321, 36301, 37371]}}},\n",
      "               {\"$group\" : {\"_id\": {\"course\": \"$course\", \"user\": \"$userid\"}}}, # Get unique users\n",
      "               {\"$group\": {\"_id\": \"$_id.course\", \"log_count\": {\"$sum\": 1}}} # Count unique users\n",
      "               ]"
     ],
     "language": "python",
     "metadata": {},
     "outputs": [],
     "prompt_number": ""
    },
    {
     "cell_type": "code",
     "collapsed": false,
     "input": [
      "%time log_counts = log_collection.aggregate(agg_query)['result']\n",
      "log_counts = pd.DataFrame(log_counts).rename(columns={'_id': 'moodle_id'}).set_index('moodle_id')"
     ],
     "language": "python",
     "metadata": {},
     "outputs": [],
     "prompt_number": ""
    },
    {
     "cell_type": "markdown",
     "metadata": {},
     "source": [
      "# Most popular overall"
     ]
    },
    {
     "cell_type": "code",
     "collapsed": false,
     "input": [
      "counts = log_counts.join(course_counts).dropna().sort('log_count', ascending=False)[['module_id', 'log_count', 'result_count']]"
     ],
     "language": "python",
     "metadata": {},
     "outputs": [],
     "prompt_number": ""
    },
    {
     "cell_type": "code",
     "collapsed": false,
     "input": [
      "counts"
     ],
     "language": "python",
     "metadata": {},
     "outputs": [],
     "prompt_number": ""
    },
    {
     "cell_type": "markdown",
     "metadata": {},
     "source": [
      "# Plot course activity"
     ]
    },
    {
     "cell_type": "code",
     "collapsed": false,
     "input": [
      "def moodle_activity(course):\n",
      "    activity={}\n",
      "    moodle_ids = [i['moodle_id'] for i in list(lookup_collection.find({'module_id': course}))]\n",
      "    for moodle_id in moodle_ids:\n",
      "        times = pd.to_datetime(pd.DataFrame(list(log_collection.find({'course': moodle_id}, ['time']))).time, unit='s')\n",
      "        accesses = pd.Series([1]*len(times),  times)\n",
      "        activity[moodle_id] = accesses.resample(rule='w', how=sum).fillna(0)\n",
      "    return pd.DataFrame(activity).fillna(0).to_dict()\n",
      "\n",
      "def plot_activity(activity):\n",
      "    pd.DataFrame(activity).plot()"
     ],
     "language": "python",
     "metadata": {},
     "outputs": [],
     "prompt_number": ""
    },
    {
     "cell_type": "code",
     "collapsed": false,
     "input": [
      "results = pd.DataFrame(list(results_collection.find()))\n",
      "result_sum = results.set_index('moodle_id').Gender.apply(lambda x: 1).reset_index()\n",
      "result_sum['module_id'] = result_sum.moodle_id.apply(lambda x: lookup[x])\n",
      "popular_courses = list(result_sum.groupby('module_id').Gender.apply(sum).order(ascending=False).keys())"
     ],
     "language": "python",
     "metadata": {},
     "outputs": [],
     "prompt_number": ""
    },
    {
     "cell_type": "code",
     "collapsed": false,
     "input": [
      "%time activity_cache = {i: moodle_activity(i) for i in popular_courses[:20]}"
     ],
     "language": "python",
     "metadata": {},
     "outputs": [],
     "prompt_number": ""
    },
    {
     "cell_type": "code",
     "collapsed": false,
     "input": [
      "i = interact(plot_activity,\n",
      "             activity = activity_cache)"
     ],
     "language": "python",
     "metadata": {},
     "outputs": [],
     "prompt_number": ""
    }
   ],
   "metadata": {}
  }
 ]
}