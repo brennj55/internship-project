{
 "metadata": {
  "name": "",
  "signature": ""
 },
 "nbformat": 3,
 "nbformat_minor": 0,
 "worksheets": [
  {
   "cells": [
    {
     "cell_type": "code",
     "collapsed": false,
     "input": [
      "import pandas as pd\n",
      "from pymongo import MongoClient\n",
      "import os"
     ],
     "language": "python",
     "metadata": {},
     "outputs": [],
     "prompt_number": ""
    },
    {
     "cell_type": "code",
     "collapsed": false,
     "input": [
      "from IPython.html.widgets import interact, interactive, fixed, DropdownWidget\n",
      "from IPython.html import widgets\n",
      "from IPython.display import clear_output, display, HTML"
     ],
     "language": "python",
     "metadata": {},
     "outputs": [],
     "prompt_number": ""
    },
    {
     "cell_type": "code",
     "collapsed": false,
     "input": [
      "import numpy as np"
     ],
     "language": "python",
     "metadata": {},
     "outputs": [],
     "prompt_number": ""
    },
    {
     "cell_type": "code",
     "collapsed": false,
     "input": [
      "db_user = os.environ['MONGO_USER']\n",
      "db_pwd = os.environ['MONGO_PWD']\n",
      "mongo_ip = os.environ['MONGO_IP']\n",
      "\n",
      "client = MongoClient(mongo_ip)\n",
      "db = client.edu\n",
      "client.edu.authenticate(db_user, db_pwd)\n",
      "log_collection = db.logs\n",
      "results_collection = db.results\n",
      "lookup_collection = db.lookup"
     ],
     "language": "python",
     "metadata": {},
     "outputs": [],
     "prompt_number": ""
    },
    {
     "cell_type": "code",
     "collapsed": false,
     "input": [
      "lookup = pd.DataFrame(list(lookup_collection.find())).set_index('module_id').moodle_id"
     ],
     "language": "python",
     "metadata": {},
     "outputs": [],
     "prompt_number": ""
    },
    {
     "cell_type": "code",
     "collapsed": false,
     "input": [
      "import matplotlib.pylab as pylab\n",
      "pylab.rcParams['figure.figsize'] = 16, 10"
     ],
     "language": "python",
     "metadata": {},
     "outputs": [],
     "prompt_number": ""
    },
    {
     "cell_type": "code",
     "collapsed": false,
     "input": [
      "from collections import OrderedDict"
     ],
     "language": "python",
     "metadata": {},
     "outputs": [],
     "prompt_number": ""
    },
    {
     "cell_type": "markdown",
     "metadata": {},
     "source": [
      "# Most popular Modules by results and pass rate"
     ]
    },
    {
     "cell_type": "code",
     "collapsed": false,
     "input": [
      "result_groups = pd.DataFrame(list(results_collection.find())).groupby(['module_id'])\n",
      "\n",
      "def pass_rate(x):\n",
      "    return ((x == 'P')*1).mean()\n",
      "\n",
      "course_stats = result_groups['Exam Result'].agg({'pass_rate': pass_rate, 'students': len})\n",
      "course_stats = course_stats.sort('students', ascending=False)[:40]"
     ],
     "language": "python",
     "metadata": {},
     "outputs": [],
     "prompt_number": ""
    },
    {
     "cell_type": "markdown",
     "metadata": {},
     "source": [
      "# Calculate top 40 most popular courses moodle accesses"
     ]
    },
    {
     "cell_type": "code",
     "collapsed": false,
     "input": [
      "def moodle_activity(course):\n",
      "    activity = {}\n",
      "    moodle_ids = [i['moodle_id'] for i in list(lookup_collection.find({'module_id': course}))]\n",
      "    for moodle_id in moodle_ids:\n",
      "        times = pd.to_datetime(pd.DataFrame(list(log_collection.find({'course': moodle_id}, ['time']))).time, unit='s')\n",
      "        accesses = pd.Series([1]*len(times),  times)\n",
      "        activity[moodle_id] = accesses.resample(rule='w', how=sum).fillna(0)\n",
      "    return pd.DataFrame(activity).fillna(0).to_dict()"
     ],
     "language": "python",
     "metadata": {},
     "outputs": [],
     "prompt_number": ""
    },
    {
     "cell_type": "code",
     "collapsed": false,
     "input": [
      "%%time\n",
      "course_stats['activity'] = course_stats.reset_index().set_index('module_id', drop=False).module_id.apply(moodle_activity)"
     ],
     "language": "python",
     "metadata": {},
     "outputs": [],
     "prompt_number": ""
    },
    {
     "cell_type": "code",
     "collapsed": false,
     "input": [
      "activity_cache = OrderedDict()\n",
      "\n",
      "for i in course_stats.index:\n",
      "    activity_cache[i] = course_stats.ix[i].to_dict()"
     ],
     "language": "python",
     "metadata": {},
     "outputs": [],
     "prompt_number": ""
    },
    {
     "cell_type": "markdown",
     "metadata": {},
     "source": [
      "# Try to parallelise"
     ]
    },
    {
     "cell_type": "code",
     "collapsed": false,
     "input": [
      "module_lookups = [lookup.get(i) for i in popular_courses[:40]]\n",
      "lift_lookups = [[int(i)] if (type(i) == np.int64) else [int(j) for j in i] for i in module_lookups]"
     ],
     "language": "python",
     "metadata": {},
     "outputs": []
    },
    {
     "cell_type": "code",
     "collapsed": false,
     "input": [
      "from IPython.parallel import Client\n",
      "rc = Client()\n",
      "dview = rc[:] \n",
      "dview.block = True\n",
      "\n",
      "with dview.sync_imports():\n",
      "    from pymongo import MongoClient\n",
      "    import pandas as pd # Alias seems to not work\n",
      "    \n",
      "dview.push({'db_user': db_user, 'db_pwd': db_pwd, 'mongo_ip': mongo_ip})\n",
      "\n",
      "create_client = \"\"\"\n",
      "client = MongoClient(mongo_ip)\n",
      "db = client.edu\n",
      "client.edu.authenticate(db_user, db_pwd)\n",
      "log_collection = db.logs\n",
      "\"\"\"\n",
      "\n",
      "dview.execute(create_client)"
     ],
     "language": "python",
     "metadata": {},
     "outputs": []
    },
    {
     "cell_type": "code",
     "collapsed": false,
     "input": [
      "@dview.parallel(block=True)\n",
      "def moodle_activity_p2(moodle_ids):\n",
      "    activity={}\n",
      "    for moodle_id in moodle_ids:\n",
      "        times = pandas.to_datetime(pandas.DataFrame(list(log_collection.find({'course': moodle_id}, ['time']))).time, unit='s')\n",
      "        accesses = pandas.Series([1]*len(times),  times)\n",
      "        activity[moodle_id] = accesses.resample(rule='w', how=sum).fillna(0)\n",
      "    return pandas.DataFrame(activity).fillna(0).to_dict()"
     ],
     "language": "python",
     "metadata": {},
     "outputs": []
    },
    {
     "cell_type": "code",
     "collapsed": false,
     "input": [
      "%time activity_cache_async = moodle_activity_p2.map(lift_lookups)"
     ],
     "language": "python",
     "metadata": {},
     "outputs": []
    },
    {
     "cell_type": "code",
     "collapsed": false,
     "input": [
      "%time activity_cache_async.wait()"
     ],
     "language": "python",
     "metadata": {},
     "outputs": []
    },
    {
     "cell_type": "markdown",
     "metadata": {},
     "source": [
      "This spends 35 minutes longer on the CPU. This is a problem that will need more profiling to figure out. Is Mongo able to handle concurrent accesses?\n",
      "\n",
      "Note to self: Find IParallel profiling tools + Switch to HDF5 / PyTables\n",
      "\n",
      "\n",
      "Ask on Stack Overflow"
     ]
    },
    {
     "cell_type": "markdown",
     "metadata": {},
     "source": [
      "# Find out why parallel computation is so slow"
     ]
    },
    {
     "cell_type": "code",
     "collapsed": false,
     "input": [
      "sview = rc[0]\n",
      "sview.block = True"
     ],
     "language": "python",
     "metadata": {},
     "outputs": []
    },
    {
     "cell_type": "code",
     "collapsed": false,
     "input": [
      "%%time\n",
      "timestamps = pd.to_datetime(pd.DataFrame(list(log_collection.find({'course': 30279}, ['time']))).time, unit='s')\n",
      "resampled = pd.Series([1]*len(timestamps), timestamps).resample(rule='w', how=sum)"
     ],
     "language": "python",
     "metadata": {},
     "outputs": []
    },
    {
     "cell_type": "code",
     "collapsed": false,
     "input": [
      "%%time\n",
      "timestamps = pd.to_datetime(pd.DataFrame(list(log_collection.find({'course': 30279}, ['time']))).time, unit='s')\n",
      "resampled = pd.Series([1]*len(timestamps), timestamps).resample(rule='w', how=sum)"
     ],
     "language": "python",
     "metadata": {},
     "outputs": []
    },
    {
     "cell_type": "code",
     "collapsed": false,
     "input": [
      "@sview.parallel(block=True)\n",
      "def m2(x):\n",
      "    timestamps = pandas.to_datetime(pandas.DataFrame(list(log_collection.find({'course': x}, ['time']))).time, unit='s')\n",
      "    resampled = pandas.Series([1]*len(timestamps), timestamps).resample(rule='w', how=sum)\n",
      "    return resampled"
     ],
     "language": "python",
     "metadata": {},
     "outputs": []
    },
    {
     "cell_type": "code",
     "collapsed": false,
     "input": [
      "%time res = m2.map([30279])"
     ],
     "language": "python",
     "metadata": {},
     "outputs": []
    },
    {
     "cell_type": "markdown",
     "metadata": {},
     "source": [
      "So individual lookups on different cores aren't that much slower"
     ]
    },
    {
     "cell_type": "markdown",
     "metadata": {},
     "source": [
      "# Graph top 40 modules"
     ]
    },
    {
     "cell_type": "code",
     "collapsed": false,
     "input": [
      "def plot_activity(activity):\n",
      "    pd.DataFrame(activity['activity']).plot()\n",
      "    print(\"Num students: {}\".format(activity['students']))\n",
      "    print(\"Pass rate: {:.2f}\".format(activity['pass_rate']))"
     ],
     "language": "python",
     "metadata": {},
     "outputs": [],
     "prompt_number": ""
    },
    {
     "cell_type": "code",
     "collapsed": false,
     "input": [
      "i = interact(plot_activity,\n",
      "             activity = activity_cache)"
     ],
     "language": "python",
     "metadata": {},
     "outputs": [],
     "prompt_number": ""
    },
    {
     "cell_type": "code",
     "collapsed": false,
     "input": [
      "# List of courses where we expect decent results on classifiers\n",
      "# Must have periocity and less than 0.95 pass rate\n",
      "\n",
      "practical_courses = {\n",
      "    'sem1': ['LG101', 'HR101', 'MT103', 'BE101', 'MT201', 'NS204', 'MS136', 'NS114', \n",
      "             'SS103', 'CA103', 'CS204', 'AC120', 'EF306', 'NS112', 'NS113', \n",
      "             'PS122', 'AC220'],\n",
      "    'sem2': ['IS101', 'EF209', 'BE102', 'NS119', 'NS118']}"
     ],
     "language": "python",
     "metadata": {},
     "outputs": [],
     "prompt_number": ""
    }
   ],
   "metadata": {}
  }
 ]
}