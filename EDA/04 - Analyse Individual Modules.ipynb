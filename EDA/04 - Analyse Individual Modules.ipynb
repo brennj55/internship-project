{
 "metadata": {
  "name": "",
  "signature": ""
 },
 "nbformat": 3,
 "nbformat_minor": 0,
 "worksheets": [
  {
   "cells": [
    {
     "cell_type": "code",
     "collapsed": false,
     "input": [
      "import pandas as pd\n",
      "from pymongo import MongoClient\n",
      "import os"
     ],
     "language": "python",
     "metadata": {},
     "outputs": [],
     "prompt_number": ""
    },
    {
     "cell_type": "code",
     "collapsed": false,
     "input": [
      "from IPython.html.widgets import interact, interactive, fixed, DropdownWidget\n",
      "from IPython.html import widgets\n",
      "from IPython.display import clear_output, display, HTML"
     ],
     "language": "python",
     "metadata": {},
     "outputs": [],
     "prompt_number": ""
    },
    {
     "cell_type": "code",
     "collapsed": false,
     "input": [
      "import numpy as np"
     ],
     "language": "python",
     "metadata": {},
     "outputs": [],
     "prompt_number": ""
    },
    {
     "cell_type": "code",
     "collapsed": false,
     "input": [
      "db_user = os.environ['MONGO_USER']\n",
      "db_pwd = os.environ['MONGO_PWD']\n",
      "mongo_ip = os.environ['MONGO_IP']\n",
      "\n",
      "client = MongoClient(mongo_ip)\n",
      "db = client.edu\n",
      "client.edu.authenticate(db_user, db_pwd)\n",
      "log_collection = db.logs\n",
      "results_collection = db.results\n",
      "lookup_collection = db.lookup"
     ],
     "language": "python",
     "metadata": {},
     "outputs": [],
     "prompt_number": ""
    },
    {
     "cell_type": "code",
     "collapsed": false,
     "input": [
      "lookup = pd.DataFrame(list(lookup_collection.find())).set_index('module_id').moodle_id"
     ],
     "language": "python",
     "metadata": {},
     "outputs": [],
     "prompt_number": ""
    },
    {
     "cell_type": "code",
     "collapsed": false,
     "input": [
      "import matplotlib.pylab as pylab\n",
      "pylab.rcParams['figure.figsize'] = 16, 10"
     ],
     "language": "python",
     "metadata": {},
     "outputs": [],
     "prompt_number": ""
    },
    {
     "cell_type": "code",
     "collapsed": false,
     "input": [
      "from collections import OrderedDict"
     ],
     "language": "python",
     "metadata": {},
     "outputs": [],
     "prompt_number": ""
    },
    {
     "cell_type": "markdown",
     "metadata": {},
     "source": [
      "# Most popular Modules by results and pass rate"
     ]
    },
    {
     "cell_type": "code",
     "collapsed": false,
     "input": [
      "%%time\n",
      "\n",
      "result_groups = pd.DataFrame(list(results_collection.find())).groupby(['module_id'])\n",
      "\n",
      "def pass_rate(x):\n",
      "    return ((x == 'P')*1).mean()\n",
      "\n",
      "course_stats = result_groups['Exam Result'].agg({'pass_rate': pass_rate, 'students': len})\n",
      "course_stats = course_stats.sort('students', ascending=False)[:120]"
     ],
     "language": "python",
     "metadata": {},
     "outputs": [],
     "prompt_number": ""
    },
    {
     "cell_type": "code",
     "collapsed": false,
     "input": [
      "course_stats_sig = course_stats[course_stats.pass_rate < 0.95]"
     ],
     "language": "python",
     "metadata": {},
     "outputs": [],
     "prompt_number": ""
    },
    {
     "cell_type": "markdown",
     "metadata": {},
     "source": [
      "# Calculate top 40 most popular courses moodle accesses"
     ]
    },
    {
     "cell_type": "code",
     "collapsed": false,
     "input": [
      "def moodle_activity(course):\n",
      "    activity = {}\n",
      "    moodle_ids = [i['moodle_id'] for i in list(lookup_collection.find({'module_id': course}))]\n",
      "    for moodle_id in moodle_ids:\n",
      "        times = pd.to_datetime(pd.DataFrame(list(log_collection.find({'course': moodle_id}, ['time']))).time, unit='s')\n",
      "        accesses = pd.Series([1]*len(times),  times)\n",
      "        activity[moodle_id] = accesses.resample(rule='w', how=sum).fillna(0)\n",
      "    return pd.DataFrame(activity).fillna(0).to_dict()"
     ],
     "language": "python",
     "metadata": {},
     "outputs": [],
     "prompt_number": ""
    },
    {
     "cell_type": "code",
     "collapsed": false,
     "input": [
      "%%time\n",
      "course_stats_sig['activity'] = course_stats_sig.reset_index().set_index('module_id', drop=False).module_id.apply(moodle_activity)"
     ],
     "language": "python",
     "metadata": {},
     "outputs": [],
     "prompt_number": ""
    },
    {
     "cell_type": "code",
     "collapsed": false,
     "input": [
      "activity_cache = OrderedDict()\n",
      "\n",
      "for i in course_stats_sig.index:\n",
      "    activity_cache[i] = course_stats_sig.ix[i].to_dict()"
     ],
     "language": "python",
     "metadata": {},
     "outputs": [],
     "prompt_number": ""
    },
    {
     "cell_type": "markdown",
     "metadata": {},
     "source": [
      "# Graph top 40 modules"
     ]
    },
    {
     "cell_type": "code",
     "collapsed": false,
     "input": [
      "def plot_activity(activity):\n",
      "    pd.DataFrame(activity['activity']).plot()\n",
      "    print(\"Num students: {}\".format(activity['students']))\n",
      "    print(\"Pass rate: {:.2f}\".format(activity['pass_rate']))"
     ],
     "language": "python",
     "metadata": {},
     "outputs": [],
     "prompt_number": ""
    },
    {
     "cell_type": "code",
     "collapsed": false,
     "input": [
      "i = interact(plot_activity,\n",
      "             activity = activity_cache)"
     ],
     "language": "python",
     "metadata": {},
     "outputs": [],
     "prompt_number": ""
    },
    {
     "cell_type": "code",
     "collapsed": false,
     "input": [
      "# List of courses where we expect decent results on classifiers\n",
      "# Must have periocity and less than 0.95 pass rate\n",
      "# And the module must not have stopped running\n",
      "\n",
      "practical_courses = {\n",
      "    'sem1': ['LG101', 'HR101', 'BE101', 'NS204', 'MS136', 'NS114', 'SS103', 'CA103', 'CS204', 'EF306', 'NS112',\n",
      "             'PS122', 'ES125', 'ES125', 'ES106', 'ES102', 'LG127', 'IS205', 'LG116', 'ES217', 'BE230', 'EF307',\n",
      "             'BE301', 'CA165', 'BE201', 'NS223', 'SS411', 'AC318'],\n",
      "    'sem2': ['LG101', 'IS101', 'EF209', 'MT201', 'BE102', 'NS119', 'NS118', 'NS113', 'EF301', 'NS312', 'LG104',\n",
      "             'CM135', 'AC301', 'NS312', 'LG104', 'CM135', 'AC301', 'CS150', 'LG102', 'CA169', 'LG201', 'EM105',\n",
      "             'EM108', 'LG113', 'AC302', 'NS320'],\n",
      "    'two_sem': ['AC120', 'AC220', 'MS125', 'EF302', 'AC303', 'MS125', 'EF302', 'AC303', 'MS121', 'C1', 'ES211',\n",
      "                'CA170', 'HS1', 'MS001', 'EM106', 'BE202']}\n",
      "\n",
      "# IS101 requires preprocessing\n",
      "# LG101 same code is used in both semesters\n",
      "# IS205 is missing data from 2013\n",
      "# C1 requires preprocessing\n",
      "# ES211 requires preprocessing\n",
      "# ES217 is missing data\n",
      "# HS1 requires preprocessing\n",
      "# EM105 requires preprocessing\n",
      "# CA165 requires preprocessing\n",
      "# LG113 requires preprocessing"
     ],
     "language": "python",
     "metadata": {},
     "outputs": []
    },
    {
     "cell_type": "markdown",
     "metadata": {},
     "source": [
      "# Graph relevant first semester modules"
     ]
    },
    {
     "cell_type": "code",
     "collapsed": false,
     "input": [
      "y1_sem1 = ['LG101', 'HR101', 'BE101', 'MS136', 'NS114', 'SS103', 'CA103', 'NS112', 'PS122', 'ES125', 'ES106', 'ES102',\n",
      "           'LG127', 'LG116', 'CA165']"
     ],
     "language": "python",
     "metadata": {},
     "outputs": [],
     "prompt_number": ""
    },
    {
     "cell_type": "code",
     "collapsed": false,
     "input": [
      "def plot_by_name(name):\n",
      "    plot_activity(activity_cache[name])"
     ],
     "language": "python",
     "metadata": {},
     "outputs": [],
     "prompt_number": ""
    },
    {
     "cell_type": "code",
     "collapsed": false,
     "input": [
      "interact(plot_by_name,\n",
      "         name = y1_sem1)"
     ],
     "language": "python",
     "metadata": {},
     "outputs": [],
     "prompt_number": ""
    }
   ],
   "metadata": {}
  }
 ]
}