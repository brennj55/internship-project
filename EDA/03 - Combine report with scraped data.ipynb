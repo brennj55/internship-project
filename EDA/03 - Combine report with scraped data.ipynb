{
 "metadata": {
  "name": "",
  "signature": ""
 },
 "nbformat": 3,
 "nbformat_minor": 0,
 "worksheets": [
  {
   "cells": [
    {
     "cell_type": "code",
     "collapsed": false,
     "input": [
      "import pandas as pd\n",
      "import pickle\n",
      "from pymongo import MongoClient\n",
      "import numpy as np\n",
      "import os"
     ],
     "language": "python",
     "metadata": {},
     "outputs": [],
     "prompt_number": ""
    },
    {
     "cell_type": "code",
     "collapsed": false,
     "input": [
      "db_user = os.environ['MONGO_USER']\n",
      "db_pwd = os.environ['MONGO_PWD']\n",
      "mongo_ip = os.environ['MONGO_IP']\n",
      "\n",
      "client = MongoClient(mongo_ip)\n",
      "client.edu.authenticate(db_user, db_pwd)\n",
      "db = client.edu\n",
      "results_collection = db.results\n",
      "lookup_collection = db.lookup"
     ],
     "language": "python",
     "metadata": {},
     "outputs": [],
     "prompt_number": ""
    },
    {
     "cell_type": "code",
     "collapsed": false,
     "input": [
      "# Geolocation\n",
      "from geopy.distance import vincenty\n",
      "from geopy.geocoders import GoogleV3\n",
      "\n",
      "# Throttling\n",
      "import time"
     ],
     "language": "python",
     "metadata": {},
     "outputs": [],
     "prompt_number": ""
    },
    {
     "cell_type": "markdown",
     "metadata": {},
     "source": [
      "# Load results"
     ]
    },
    {
     "cell_type": "code",
     "collapsed": false,
     "input": [
      "results = pd.read_csv('../data/report2.csv')\n",
      "results.columns = results.columns.map(str.strip)"
     ],
     "language": "python",
     "metadata": {},
     "outputs": [],
     "prompt_number": ""
    },
    {
     "cell_type": "markdown",
     "metadata": {},
     "source": [
      "# Add column of DOB in time"
     ]
    },
    {
     "cell_type": "code",
     "collapsed": false,
     "input": [
      "results['dob'] = pd.to_datetime(results['Date of Birth'])"
     ],
     "language": "python",
     "metadata": {},
     "outputs": [],
     "prompt_number": ""
    },
    {
     "cell_type": "markdown",
     "metadata": {},
     "source": [
      "# Create course lookup"
     ]
    },
    {
     "cell_type": "code",
     "collapsed": false,
     "input": [
      "courses = pickle.load(open('../pickles/courses.pkl', 'rb')).reset_index()"
     ],
     "language": "python",
     "metadata": {},
     "outputs": [],
     "prompt_number": ""
    },
    {
     "cell_type": "code",
     "collapsed": false,
     "input": [
      "lookup = courses[['moodle_id', 'module_id']]"
     ],
     "language": "python",
     "metadata": {},
     "outputs": [],
     "prompt_number": ""
    },
    {
     "cell_type": "code",
     "collapsed": false,
     "input": [
      "_ = lookup_collection.insert(list(lookup.T.to_dict().values()))"
     ],
     "language": "python",
     "metadata": {},
     "outputs": [],
     "prompt_number": ""
    },
    {
     "cell_type": "markdown",
     "metadata": {},
     "source": [
      "# Find modules with multiple matching course_ids"
     ]
    },
    {
     "cell_type": "code",
     "collapsed": false,
     "input": [
      "counts = lookup.groupby('module_id').moodle_id.count()"
     ],
     "language": "python",
     "metadata": {},
     "outputs": [],
     "prompt_number": ""
    },
    {
     "cell_type": "code",
     "collapsed": false,
     "input": [
      "[i['moodle_id'] for i in list(lookup_collection.find({'module_id': 'ES512'}))]"
     ],
     "language": "python",
     "metadata": {},
     "outputs": [],
     "prompt_number": ""
    },
    {
     "cell_type": "code",
     "collapsed": false,
     "input": [
      "lookup.set_index('module_id').loc['CA169']"
     ],
     "language": "python",
     "metadata": {},
     "outputs": [],
     "prompt_number": ""
    },
    {
     "cell_type": "markdown",
     "metadata": {},
     "source": [
      "# Merge scraped data with courses"
     ]
    },
    {
     "cell_type": "code",
     "collapsed": false,
     "input": [
      "combined_results = pd.merge(courses, results, left_on='module_id', right_on='Subject')"
     ],
     "language": "python",
     "metadata": {},
     "outputs": [],
     "prompt_number": ""
    },
    {
     "cell_type": "markdown",
     "metadata": {},
     "source": [
      "# Append distance to DCU to results"
     ]
    },
    {
     "cell_type": "code",
     "collapsed": false,
     "input": [
      "def append_dom_dist(results):\n",
      "    \n",
      "    \n",
      "    geolocator = GoogleV3()\n",
      "    dcu_coord = geolocator.geocode(\"DCU, Ireland\")[1]\n",
      "\n",
      "    def add_country(county_code, description):\n",
      "        if(county_code.isdigit()):\n",
      "            return description + \", Ireland\"\n",
      "        else: return description\n",
      "\n",
      "    # Don't modify origial data frame\n",
      "    tmp = pd.DataFrame()\n",
      "\n",
      "    tmp['address'] = results[['Domicile', 'Domiicle Description']].apply(lambda x: add_country(*x), axis=1)\n",
      "\n",
      "    locations = {}\n",
      "\n",
      "    for address in tmp.address.unique():\n",
      "        location = geolocator.geocode(address)\n",
      "        if location is not None:\n",
      "            locations[address] = location[1]\n",
      "        else: locations[address] = None\n",
      "        time.sleep(0.15)\n",
      "    \n",
      "    tmp['location'] = tmp.address.apply(lambda x: locations[x])\n",
      "    tmp['dist'] = tmp.location.apply(lambda x: round(vincenty(dcu_coord, x).km) if x is not None else np.NaN)\n",
      "\n",
      "    tmp.dist = tmp.dist.fillna(tmp.dist.mean())\n",
      "        \n",
      "    return pd.merge(tmp[['dist']], results, left_index=True, right_index=True)"
     ],
     "language": "python",
     "metadata": {},
     "outputs": [],
     "prompt_number": ""
    },
    {
     "cell_type": "code",
     "collapsed": false,
     "input": [
      "results_with_dist = append_dom_dist(combined_results)"
     ],
     "language": "python",
     "metadata": {},
     "outputs": [],
     "prompt_number": ""
    },
    {
     "cell_type": "markdown",
     "metadata": {},
     "source": [
      "# Add repeat count"
     ]
    },
    {
     "cell_type": "markdown",
     "metadata": {},
     "source": [
      "## Count how many students repeat overall"
     ]
    },
    {
     "cell_type": "code",
     "collapsed": false,
     "input": [
      "# Drop August resits\n",
      "results_excl_repeats = results_with_dist[results_with_dist['Exam Month'] != 8]\n",
      "# Drop students with missing student numbers\n",
      "results_excl_repeats = results_excl_repeats.dropna(subset=['Moodleid'])\n",
      "# Drop duplicates results for same student, same year and same module\n",
      "results_excl_repeats = results_excl_repeats.drop_duplicates(cols=['moodle_id', 'Moodleid', 'Year'])"
     ],
     "language": "python",
     "metadata": {},
     "outputs": [],
     "prompt_number": ""
    },
    {
     "cell_type": "code",
     "collapsed": false,
     "input": [
      "%time num_repeats = results_excl_repeats.groupby(['moodle_id', 'Moodleid']).dist.count()"
     ],
     "language": "python",
     "metadata": {},
     "outputs": [],
     "prompt_number": ""
    },
    {
     "cell_type": "code",
     "collapsed": false,
     "input": [
      "num_repeats.value_counts()"
     ],
     "language": "python",
     "metadata": {},
     "outputs": [],
     "prompt_number": ""
    },
    {
     "cell_type": "markdown",
     "metadata": {},
     "source": [
      "## Method to add repeat count"
     ]
    },
    {
     "cell_type": "code",
     "collapsed": false,
     "input": [
      "def get_repeat_counts(results):\n",
      "    repeats = results.reset_index().reset_index().rename(columns={'index': 'repeat_no'})\n",
      "    return repeats.set_index(['moodle_id', 'Moodleid', 'Year']).repeat_no"
     ],
     "language": "python",
     "metadata": {},
     "outputs": [],
     "prompt_number": ""
    },
    {
     "cell_type": "code",
     "collapsed": false,
     "input": [
      "def get_repeat_counts_all():\n",
      "    dist = results_excl_repeats.set_index(['moodle_id', 'Moodleid']).Year.sort_index()\n",
      "    idx = num_repeats[num_repeats > 1].index\n",
      "\n",
      "    repeats = get_repeat_counts(dist.loc[idx[0]])\n",
      "    for i in idx[1:]:\n",
      "        repeats = repeats.append(get_repeat_counts(dist.loc[i]))\n",
      "    return repeats"
     ],
     "language": "python",
     "metadata": {},
     "outputs": [],
     "prompt_number": ""
    },
    {
     "cell_type": "code",
     "collapsed": false,
     "input": [
      "%time repeat_count = get_repeat_counts_all()"
     ],
     "language": "python",
     "metadata": {},
     "outputs": [],
     "prompt_number": ""
    },
    {
     "cell_type": "code",
     "collapsed": false,
     "input": [
      "simple_repeat_count = pd.Series([0] * len(results_excl_repeats), index=results_excl_repeats.set_index(['moodle_id', 'Moodleid', 'Year']).index, name='repeat_count').sort_index()"
     ],
     "language": "python",
     "metadata": {},
     "outputs": [],
     "prompt_number": ""
    },
    {
     "cell_type": "code",
     "collapsed": false,
     "input": [
      "simple_repeat_count.update(repeat_count)"
     ],
     "language": "python",
     "metadata": {},
     "outputs": [],
     "prompt_number": ""
    },
    {
     "cell_type": "code",
     "collapsed": false,
     "input": [
      "results_incl_repeat_count = results_excl_repeats.set_index([\"moodle_id\", \"Moodleid\", \"Year\"])\n",
      "results_incl_repeat_count['repeat_count'] = simple_repeat_count\n",
      "results_incl_repeat_count = results_incl_repeat_count.reset_index()"
     ],
     "language": "python",
     "metadata": {},
     "outputs": [],
     "prompt_number": ""
    },
    {
     "cell_type": "code",
     "collapsed": false,
     "input": [
      "num_repeats[num_repeats==5]"
     ],
     "language": "python",
     "metadata": {},
     "outputs": [],
     "prompt_number": ""
    },
    {
     "cell_type": "code",
     "collapsed": false,
     "input": [
      "results_incl_repeat_count.set_index(['moodle_id', 'Moodleid']).sort_index().loc[31798, 9117][['Year', 'repeat_count']]"
     ],
     "language": "python",
     "metadata": {},
     "outputs": [],
     "prompt_number": ""
    },
    {
     "cell_type": "markdown",
     "metadata": {},
     "source": [
      "# Insert into mongo"
     ]
    },
    {
     "cell_type": "code",
     "collapsed": false,
     "input": [
      "%%timeit -r 1 -n 1\n",
      "_ = results_collection.insert(list(results_incl_repeat_count.T.to_dict().values()), safe=True)"
     ],
     "language": "python",
     "metadata": {},
     "outputs": [],
     "prompt_number": ""
    },
    {
     "cell_type": "code",
     "collapsed": false,
     "input": [
      "results_collection.ensure_index('module_id')"
     ],
     "language": "python",
     "metadata": {},
     "outputs": [],
     "prompt_number": ""
    },
    {
     "cell_type": "code",
     "collapsed": false,
     "input": [
      "CA169 = pd.DataFrame(list(results_collection.find({'module_id': 'CA169'})))"
     ],
     "language": "python",
     "metadata": {},
     "outputs": [],
     "prompt_number": ""
    },
    {
     "cell_type": "code",
     "collapsed": false,
     "input": [
      "CA169[['moodle_id', 'module_id', 'dist', 'course_name', 'Gender', 'Year', 'repeat_count', 'Exam Month', 'Exam Result']][0:50]"
     ],
     "language": "python",
     "metadata": {},
     "outputs": [],
     "prompt_number": ""
    }
   ],
   "metadata": {}
  }
 ]
}