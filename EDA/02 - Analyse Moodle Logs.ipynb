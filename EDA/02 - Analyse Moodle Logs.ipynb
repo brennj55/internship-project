{
 "metadata": {
  "name": "",
  "signature": ""
 },
 "nbformat": 3,
 "nbformat_minor": 0,
 "worksheets": [
  {
   "cells": [
    {
     "cell_type": "code",
     "collapsed": false,
     "input": [
      "import pandas as pd\n",
      "from datetime import datetime\n",
      "from pymongo import MongoClient\n",
      "import os"
     ],
     "language": "python",
     "metadata": {},
     "outputs": [],
     "prompt_number": ""
    },
    {
     "cell_type": "code",
     "collapsed": false,
     "input": [
      "db_user = os.environ['MONGO_USER']\n",
      "db_pwd = os.environ['MONGO_PWD']\n",
      "mongo_ip = os.environ['MONGO_IP']\n",
      "\n",
      "client = MongoClient(mongo_ip)\n",
      "client.edu.authenticate(db_user, db_pwd)\n",
      "db = client.edu\n",
      "log_collection = db.logs"
     ],
     "language": "python",
     "metadata": {},
     "outputs": [],
     "prompt_number": ""
    },
    {
     "cell_type": "code",
     "collapsed": false,
     "input": [
      "import matplotlib.pylab as pylab\n",
      "pylab.rcParams['figure.figsize'] = 26, 10"
     ],
     "language": "python",
     "metadata": {},
     "outputs": []
    },
    {
     "cell_type": "markdown",
     "metadata": {},
     "source": [
      "# Total Activity over time"
     ]
    },
    {
     "cell_type": "code",
     "collapsed": false,
     "input": [
      "times = [result['time'] for result in (log_collection.find({}, [\"time\"]))]\n",
      "times = pd.Series(pd.to_datetime(times, unit='s'))"
     ],
     "language": "python",
     "metadata": {},
     "outputs": []
    },
    {
     "cell_type": "code",
     "collapsed": false,
     "input": [
      "activity = pd.Series([1]*len(times), index=times).resample(rule='w', how=sum)\n",
      "activity.fillna(0, inplace=True)\n",
      "activity.plot()"
     ],
     "language": "python",
     "metadata": {},
     "outputs": []
    },
    {
     "cell_type": "markdown",
     "metadata": {},
     "source": [
      "# Total Activity for 2013 year"
     ]
    },
    {
     "cell_type": "code",
     "collapsed": false,
     "input": [
      "activity_2013 = activity['9-2012':'9-2013']"
     ],
     "language": "python",
     "metadata": {},
     "outputs": []
    },
    {
     "cell_type": "code",
     "collapsed": false,
     "input": [
      "important_dates = {\n",
      "    datetime(2012, 9, 24): {\"name\": \"Start of semester 1\", \"offset\": (20, 20)},\n",
      "    datetime(2012, 11, 7): {\"name\": \"Reading week\", \"offset\": (-50, -60)},\n",
      "    datetime(2012, 12, 15): {\"name\": \"End of lectures\", \"offset\": (-30, 100)},\n",
      "    datetime(2013, 1, 14): {\"name\": \"Start of semester 1 exams\", \"offset\":(20, 20)},\n",
      "    datetime(2013, 1, 25): {\"name\": \"End of exams\", \"offset\":(0, 160)},\n",
      "    datetime(2013, 2, 4): {\"name\": \"Start of Semester 2\", \"offset\": (20, -40)},\n",
      "    datetime(2013, 3, 20): {\"name\": \"Reading week\", \"offset\": (-50, -60)},\n",
      "    datetime(2013, 4, 27): {\"name\": \"End of lectures\", \"offset\": (-130, 20)},\n",
      "    datetime(2013, 5, 13): {\"name\": \"Start of semester 2 exams\", \"offset\": (20, 20)},\n",
      "    datetime(2013, 5, 25): {\"name\": \"End of exams\", \"offset\": (20, 20)},\n",
      "    datetime(2013, 8, 12): {\"name\": \"Start of resits\", \"offset\": (-60, 40)},\n",
      "    datetime(2013, 8, 24): {\"name\": \"End of resits\", \"offset\": (20, 20)}\n",
      "}"
     ],
     "language": "python",
     "metadata": {},
     "outputs": []
    },
    {
     "cell_type": "code",
     "collapsed": false,
     "input": [
      "def nearest_time(date, time_index):\n",
      "    time_index_list = time_index.tolist()\n",
      "    before = time_index.asof(date)\n",
      "    after = time_index_list[time_index_list.index(before)+1]\n",
      "    if after - date > date - before:\n",
      "        return before\n",
      "    return after"
     ],
     "language": "python",
     "metadata": {},
     "outputs": []
    },
    {
     "cell_type": "code",
     "collapsed": false,
     "input": [
      "activity_2013_plot = activity_2013.plot()\n",
      "activity_2013_plot.set_title('Activity in 2013', fontsize=20)\n",
      "\n",
      "time_index = activity_2013.index\n",
      "\n",
      "for date, event in important_dates.items():\n",
      "    name = event['name']\n",
      "    offset = event['offset']\n",
      "    # Round date to nearest data point in hit_counts\n",
      "    date = nearest_time(date, time_index)\n",
      "    \n",
      "    activity_2013_plot.annotate(name, xy=(date, activity_2013[date]), xycoords='data', xytext=offset, textcoords='offset points', \\\n",
      "                                arrowprops=dict(arrowstyle='-|>'), fontsize=15)"
     ],
     "language": "python",
     "metadata": {},
     "outputs": []
    }
   ],
   "metadata": {}
  }
 ]
}