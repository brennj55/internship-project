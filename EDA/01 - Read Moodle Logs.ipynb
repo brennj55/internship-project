{
 "metadata": {
  "name": "",
  "signature": ""
 },
 "nbformat": 3,
 "nbformat_minor": 0,
 "worksheets": [
  {
   "cells": [
    {
     "cell_type": "code",
     "collapsed": false,
     "input": [
      "import pandas as pd\n",
      "import pickle\n",
      "from datetime import datetime\n",
      "import os\n",
      "from pymongo import MongoClient"
     ],
     "language": "python",
     "metadata": {},
     "outputs": [],
     "prompt_number": ""
    },
    {
     "cell_type": "code",
     "collapsed": false,
     "input": [
      "db_user = os.environ['MONGO_USER']\n",
      "db_pwd = os.environ['MONGO_PWD']\n",
      "\n",
      "client = MongoClient()\n",
      "client.edu.authenticate(db_user, db_pwd)\n",
      "db = client.edu\n",
      "log_collection = db.logs"
     ],
     "language": "python",
     "metadata": {},
     "outputs": [],
     "prompt_number": ""
    },
    {
     "cell_type": "code",
     "collapsed": false,
     "input": [
      "import matplotlib.pylab as pylab\n",
      "pylab.rcParams['figure.figsize'] = 16, 12"
     ],
     "language": "python",
     "metadata": {},
     "outputs": [],
     "prompt_number": ""
    },
    {
     "cell_type": "markdown",
     "metadata": {},
     "source": [
      "# Preprocess Moodle Logs"
     ]
    },
    {
     "cell_type": "code",
     "collapsed": false,
     "input": [
      "years = list(range(2008, 2014))\n",
      "archives = [\"../data/dcuv19y\" + str(y) + \".csv\" for y in years]"
     ],
     "language": "python",
     "metadata": {},
     "outputs": [],
     "prompt_number": ""
    },
    {
     "cell_type": "code",
     "collapsed": false,
     "input": [
      "%%timeit -n 1 -r 1\n",
      "\n",
      "header = \"_id,time,userid,ip,course,module,cmid,action,url,info\\n\"\n",
      "\n",
      "with open('../data/all_logs.csv', 'w') as outfile:\n",
      "    outfile.write(header)\n",
      "    \n",
      "    for archive in archives:\n",
      "        with open(archive, encoding='latin-1') as infile:\n",
      "            # Skip header\n",
      "            next(infile)\n",
      "                \n",
      "            for line in infile:\n",
      "                outfile.write(line)"
     ],
     "language": "python",
     "metadata": {},
     "outputs": [],
     "prompt_number": ""
    },
    {
     "cell_type": "markdown",
     "metadata": {},
     "source": [
      "# Read Moodle Logs"
     ]
    },
    {
     "cell_type": "code",
     "collapsed": false,
     "input": [
      "# Clear collection\n",
      "log_collection.drop()"
     ],
     "language": "python",
     "metadata": {},
     "outputs": [],
     "prompt_number": ""
    },
    {
     "cell_type": "code",
     "collapsed": false,
     "input": [
      "def academic_year(time):\n",
      "    if(time.month < 10): return time.year\n",
      "    else: return time.year + 1"
     ],
     "language": "python",
     "metadata": {},
     "outputs": [],
     "prompt_number": ""
    },
    {
     "cell_type": "code",
     "collapsed": false,
     "input": [
      "%%timeit -n 1 -r 1\n",
      "\n",
      "reader = pd.read_csv('../data/all_logs.csv',  escapechar=\"\\\\\", encoding='latin-1', chunksize=100000)\n",
      "for chunk in reader:\n",
      "    chunk['ac_year'] = pd.to_datetime(chunk.time, unit='s').apply(academic_year)\n",
      "    chunk_records = list(chunk.T.to_dict().values())\n",
      "    for record in chunk_records:\n",
      "        log_collection.save(record, safe=True)\n",
      "    print(\".\", end=\"\")"
     ],
     "language": "python",
     "metadata": {},
     "outputs": [],
     "prompt_number": ""
    },
    {
     "cell_type": "code",
     "collapsed": false,
     "input": [
      "%%timeit -n 1 -r 1\n",
      "log_collection.ensure_index('course')"
     ],
     "language": "python",
     "metadata": {},
     "outputs": [],
     "prompt_number": ""
    },
    {
     "cell_type": "markdown",
     "metadata": {},
     "source": [
      "# Read one module"
     ]
    },
    {
     "cell_type": "code",
     "collapsed": false,
     "input": [
      "CA169 = list(log_collection.find({'course': 31103}))\n",
      "CA169 = pd.DataFrame(CA169).set_index('_id').sort_index()\n",
      "CA169['time'] = pd.to_datetime(CA169.time, unit='s')"
     ],
     "language": "python",
     "metadata": {},
     "outputs": [],
     "prompt_number": ""
    },
    {
     "cell_type": "code",
     "collapsed": false,
     "input": [
      "CA169[-10:]"
     ],
     "language": "python",
     "metadata": {},
     "outputs": [],
     "prompt_number": ""
    },
    {
     "cell_type": "code",
     "collapsed": false,
     "input": [
      "pd.Series([1]*len(CA169), index=CA169.time).resample(rule='w', how=sum).fillna(0).plot()"
     ],
     "language": "python",
     "metadata": {},
     "outputs": [],
     "prompt_number": ""
    }
   ],
   "metadata": {}
  }
 ]
}